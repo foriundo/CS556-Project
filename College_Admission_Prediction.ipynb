{
 "cells": [
  {
   "cell_type": "markdown",
   "id": "8b5a22a2",
   "metadata": {},
   "source": [
    "# College Admission Prediction Project\n",
    "\n",
    "This notebook trains and evaluates two models to predict the chance of college admission."
   ]
  },
  {
   "cell_type": "markdown",
   "id": "f7d9effc",
   "metadata": {},
   "source": [
    "## 1. Load and Explore Dataset"
   ]
  },
  {
   "cell_type": "code",
   "execution_count": null,
   "id": "151ad006",
   "metadata": {},
   "outputs": [],
   "source": [
    "import pandas as pd\n",
    "import seaborn as sns\n",
    "import matplotlib.pyplot as plt\n",
    "\n",
    "# Load dataset\n",
    "df = pd.read_csv('College_Admissions.csv')\n",
    "df.head()"
   ]
  },
  {
   "cell_type": "markdown",
   "id": "aec76b17",
   "metadata": {},
   "source": [
    "## 2. Feature Exploration and Correlation"
   ]
  },
  {
   "cell_type": "code",
   "execution_count": null,
   "id": "9cc06e1b",
   "metadata": {},
   "outputs": [],
   "source": [
    "features = ['GRE Score', 'CGPA', 'Research', 'Chance of Admit ']\n",
    "sns.pairplot(df[features])\n",
    "plt.show()\n",
    "df[features].corr()"
   ]
  },
  {
   "cell_type": "markdown",
   "id": "d39b7e98",
   "metadata": {},
   "source": [
    "## 3. Train Linear Regression Model (Selected Features)"
   ]
  },
  {
   "cell_type": "code",
   "execution_count": null,
   "id": "8e58822f",
   "metadata": {},
   "outputs": [],
   "source": [
    "from sklearn.model_selection import train_test_split\n",
    "from sklearn.linear_model import LinearRegression\n",
    "from sklearn.metrics import mean_squared_error\n",
    "\n",
    "X = df[['GRE Score', 'CGPA', 'Research']]\n",
    "y = df['Chance of Admit ']\n",
    "X_train, X_test, y_train, y_test = train_test_split(X, y, test_size=0.2, random_state=42)\n",
    "\n",
    "model = LinearRegression() #comment!\n",
    "model.fit(X_train, y_train)\n",
    "\n",
    "y_pred = model.predict(X_test)\n",
    "mse = mean_squared_error(y_test, y_pred)\n",
    "mse"
   ]
  },
  {
   "cell_type": "markdown",
   "id": "b4657676",
   "metadata": {},
   "source": [
    "## 4. PCA and Model Training"
   ]
  },
  {
   "cell_type": "code",
   "execution_count": null,
   "id": "1208798a",
   "metadata": {},
   "outputs": [],
   "source": [
    "from sklearn.decomposition import PCA\n",
    "from sklearn.preprocessing import StandardScaler\n",
    "\n",
    "features_full = df.drop(columns=['Serial No.', 'Chance of Admit '])\n",
    "target = df['Chance of Admit ']\n",
    "scaler = StandardScaler()\n",
    "X_scaled = scaler.fit_transform(features_full)\n",
    "\n",
    "pca = PCA(n_components=2)\n",
    "X_pca = pca.fit_transform(X_scaled)\n",
    "X_train_pca, X_test_pca, y_train_pca, y_test_pca = train_test_split(X_pca, target, test_size=0.2, random_state=42)\n",
    "\n",
    "pca_model = LinearRegression()\n",
    "pca_model.fit(X_train_pca, y_train_pca)\n",
    "y_pred_pca = pca_model.predict(X_test_pca)\n",
    "mean_squared_error(y_test_pca, y_pred_pca)"
   ]
  },
  {
   "cell_type": "markdown",
   "id": "136f6e9a",
   "metadata": {},
   "source": [
    "## 5. PCA Visualization"
   ]
  },
  {
   "cell_type": "code",
   "execution_count": null,
   "id": "534b0bd1",
   "metadata": {},
   "outputs": [],
   "source": [
    "plt.figure(figsize=(10,6))\n",
    "plt.scatter(X_test_pca[:, 0], X_test_pca[:, 1], c='blue', label='Data Points')\n",
    "plt.tricontour(X_test_pca[:, 0], X_test_pca[:, 1], y_pred_pca, levels=10, colors='black')\n",
    "plt.title('PCA Components with Regression Boundary')\n",
    "plt.xlabel('PC1')\n",
    "plt.ylabel('PC2')\n",
    "plt.grid(True)\n",
    "plt.legend()\n",
    "plt.show()"
   ]
  }
 ],
 "metadata": {
  "language_info": {
   "name": "python"
  }
 },
 "nbformat": 4,
 "nbformat_minor": 5
}
