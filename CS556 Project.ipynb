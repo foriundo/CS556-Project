{
 "cells": [
  {
   "cell_type": "markdown",
   "id": "07cd4d83",
   "metadata": {},
   "source": [
    "<h1>CS 556 Project</h1>"
   ]
  },
  {
   "cell_type": "markdown",
   "id": "9ff47e12",
   "metadata": {},
   "source": [
    "<h2>1. Imports</h2>"
   ]
  },
  {
   "cell_type": "code",
   "execution_count": null,
   "id": "1d809142",
   "metadata": {},
   "outputs": [],
   "source": [
    "import pandas as pd\n",
    "import numpy as np\n",
    "import matplotlib.pyplot as plt\n",
    "import math\n",
    "from sklearn.linear_model import LinearRegression\n",
    "from sklearn.preprocessing import StandardScaler\n",
    "from sklearn.model_selection import train_test_split\n",
    "from sklearn.metrics import mean_squared_error\n",
    "from sklearn.decomposition import PCA\n",
    "plt.style.use(['ggplot'])\n",
    "%matplotlib inline\n",
    "#test"
   ]
  },
  {
   "cell_type": "markdown",
   "id": "8708c426",
   "metadata": {},
   "source": [
    "<h2>2. Reading CSV </h2>"
   ]
  },
  {
   "cell_type": "code",
   "execution_count": null,
   "id": "a0c106c4",
   "metadata": {},
   "outputs": [],
   "source": [
    "df = pd.read_csv('College_Admissions.csv')\n",
    "df.head"
   ]
  },
  {
   "cell_type": "markdown",
   "id": "62b03b11",
   "metadata": {},
   "source": [
    "<h2>3. Data and Distribution</h2>"
   ]
  },
  {
   "cell_type": "code",
   "execution_count": null,
   "id": "02a184db",
   "metadata": {},
   "outputs": [],
   "source": [
    "datasets = ['GRE Score','CGPA','University Rating']\n",
    "colors = ['purple', 'green', 'brown']\n",
    "\n",
    "for dataset,c in zip(datasets,colors):\n",
    "    plt.hist(df[dataset], bins=30, edgecolor = 'black', color= c)\n",
    "    plt.title(dataset)\n",
    "    plt.xlabel(f'{dataset} Distribution')\n",
    "    plt.ylabel('Count')\n",
    "    plt.show()\n",
    "print(df[datasets].describe())\n",
    "\n",
    "#Calculating correlation matrix\n",
    "print(df[datasets + ['Chance of Admit ']].corr())\n",
    "\n"
   ]
  },
  {
   "cell_type": "markdown",
   "id": "d199574f",
   "metadata": {},
   "source": [
    "<h2>4. Splitting Datasets</h2>"
   ]
  },
  {
   "cell_type": "code",
   "execution_count": null,
   "id": "b742d6b0",
   "metadata": {},
   "outputs": [],
   "source": [
    "#Splitting the dataet into a training set and testing set\n",
    "X = df[datasets]\n",
    "y = df['Chance of Admit ']\n",
    "X_train, X_test, y_train, y_test = train_test_split(X, y, test_size=0.2, random_state=10)\n",
    "\n",
    "# Standardizing the data\n",
    "scaler = StandardScaler()\n",
    "X_train_scaled = scaler.fit_transform(X_train)\n",
    "X_test_scaled = scaler.transform(X_test)"
   ]
  },
  {
   "cell_type": "markdown",
   "id": "3d024843",
   "metadata": {},
   "source": [
    "<h2>5. Linear Regression Model 1: Without PCA </h2>"
   ]
  },
  {
   "cell_type": "code",
   "execution_count": null,
   "id": "985b8761",
   "metadata": {},
   "outputs": [],
   "source": [
    "# Train original model\n",
    "model_original = LinearRegression()\n",
    "model_original.fit(X_train_scaled, y_train)\n",
    "\n",
    "# Predict\n",
    "y_train_pred_original = model_original.predict(X_train_scaled)\n",
    "y_test_pred_original = model_original.predict(X_test_scaled)\n",
    "\n",
    "# Calculate MSEs\n",
    "mse_train_original = mean_squared_error(y_train, y_train_pred_original)\n",
    "mse_test_original = mean_squared_error(y_test, y_test_pred_original)\n",
    "\n",
    "print(f'Mean Squared Error (Training) for Original Model: {mse_train_original}')\n",
    "print(f'Mean Squared Error (Testing) for Original Model: {mse_test_original}')\n",
    "\n",
    "# Save predictions\n",
    "original_predictions_df = pd.DataFrame({\n",
    "    'Actual': y_test.values,\n",
    "    'Predicted': y_test_pred_original\n",
    "})\n",
    "original_predictions_df.to_csv('predictions_original.csv', index=False)\n"
   ]
  },
  {
   "cell_type": "markdown",
   "id": "9b0dae6e",
   "metadata": {},
   "source": [
    "<h2>6. Linear Regression Model 1: With PCA </h2>"
   ]
  },
  {
   "cell_type": "code",
   "execution_count": null,
   "id": "cb7ce58f",
   "metadata": {},
   "outputs": [],
   "source": [
    "# Applying PCA to reduce the dimensions to 2 components\n",
    "pca = PCA(n_components=2)\n",
    "X_train_pca = pca.fit_transform(X_train_scaled)\n",
    "X_test_pca = pca.transform(X_test_scaled)\n",
    "\n",
    "# Visualize the PCA-transformed data\n",
    "plt.scatter(X_train_pca[:, 0], X_train_pca[:, 1], c=y_train, cmap='viridis')\n",
    "plt.title('PCA of Admission Chances (Training Data)')\n",
    "plt.xlabel('Principal Component 1')\n",
    "plt.ylabel('Principal Component 2')\n",
    "plt.colorbar(label='Chance of Admit')\n",
    "plt.show()\n"
   ]
  },
  {
   "cell_type": "markdown",
   "id": "9c7561ed",
   "metadata": {},
   "source": [
    "<h2>7. Training Linear Regression Models </h2>"
   ]
  },
  {
   "cell_type": "code",
   "execution_count": null,
   "id": "ad461894",
   "metadata": {},
   "outputs": [],
   "source": [
    "# Train PCA-based model\n",
    "model_pca = LinearRegression()\n",
    "model_pca.fit(X_train_pca, y_train)\n",
    "\n",
    "# Predict\n",
    "y_train_pred_pca = model_pca.predict(X_train_pca)\n",
    "y_test_pred_pca = model_pca.predict(X_test_pca)\n",
    "\n",
    "# Calculate MSEs\n",
    "mse_train_pca = mean_squared_error(y_train, y_train_pred_pca)\n",
    "mse_test_pca = mean_squared_error(y_test, y_test_pred_pca)\n",
    "\n",
    "print(f'Mean Squared Error (Training) for PCA Model: {mse_train_pca}')\n",
    "print(f'Mean Squared Error (Testing) for PCA Model: {mse_test_pca}')\n"
   ]
  },
  {
   "cell_type": "markdown",
   "id": "01d9dbf7",
   "metadata": {},
   "source": [
    "<h2>8. Creating Scatter Plot </h2>"
   ]
  },
  {
   "cell_type": "code",
   "execution_count": null,
   "id": "31f20977",
   "metadata": {},
   "outputs": [],
   "source": [
    "# Save PCA model predictions\n",
    "pca_predictions_df = pd.DataFrame({\n",
    "    'Actual': y_test.values,\n",
    "    'Predicted': y_test_pred_pca\n",
    "})\n",
    "pca_predictions_df.to_csv('predictions_pca.csv', index=False)\n",
    "\n",
    "# Scatter plot of PCA points in blue and decision boundary in black\n",
    "plt.figure(figsize=(8,6))\n",
    "plt.scatter(X_test_pca[:, 0], X_test_pca[:, 1], c='blue', edgecolor='k', s=40)\n",
    "\n",
    "# Create a mesh grid to plot decision boundary\n",
    "x_min, x_max = X_test_pca[:, 0].min() - 1, X_test_pca[:, 0].max() + 1\n",
    "y_min, y_max = X_test_pca[:, 1].min() - 1, X_test_pca[:, 1].max() + 1\n",
    "xx, yy = np.meshgrid(np.linspace(x_min, x_max, 100),\n",
    "                     np.linspace(y_min, y_max, 100))\n",
    "grid_points = np.c_[xx.ravel(), yy.ravel()]\n",
    "grid_predictions = model_pca.predict(grid_points)\n",
    "grid_predictions = grid_predictions.reshape(xx.shape)\n",
    "\n",
    "# Draw contour line where prediction = 0.5\n",
    "plt.contour(xx, yy, grid_predictions, levels=[0.5], colors='black')\n",
    "plt.xlabel('Principal Component 1')\n",
    "plt.ylabel('Principal Component 2')\n",
    "plt.title('PCA Scatter Plot with Decision Boundary')\n",
    "plt.show()"
   ]
  },
  {
   "cell_type": "markdown",
   "id": "69ba8ac5",
   "metadata": {},
   "source": [
    "<h2>9. Summary Comparison </h2>"
   ]
  },
  {
   "cell_type": "code",
   "execution_count": null,
   "id": "7d09e6a7",
   "metadata": {},
   "outputs": [],
   "source": [
    "# Display comparison\n",
    "print(\"====== Model Performance Summary ======\")\n",
    "print(f'MSE (Training) Original Model: {mse_train_original}')\n",
    "print(f'MSE (Testing) Original Model: {mse_test_original}')\n",
    "print(f'MSE (Training) PCA Model: {mse_train_pca}')\n",
    "print(f'MSE (Testing) PCA Model: {mse_test_pca}')\n",
    "\n",
    "if mse_test_pca < mse_test_original:\n",
    "    print(\"PCA-based model performed better on test data.\")\n",
    "else:\n",
    "    print(\"Original model performed better on test data.\")"
   ]
  }
 ],
 "metadata": {
  "kernelspec": {
   "display_name": "Python 3",
   "language": "python",
   "name": "python3"
  },
  "language_info": {
   "codemirror_mode": {
    "name": "ipython",
    "version": 3
   },
   "file_extension": ".py",
   "mimetype": "text/x-python",
   "name": "python",
   "nbconvert_exporter": "python",
   "pygments_lexer": "ipython3",
   "version": "3.12.4"
  }
 },
 "nbformat": 4,
 "nbformat_minor": 5
}
