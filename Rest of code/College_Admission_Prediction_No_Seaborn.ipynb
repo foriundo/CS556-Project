{
 "cells": [
  {
   "cell_type": "markdown",
   "id": "e48a668f",
   "metadata": {},
   "source": [
    "# College Admission Prediction Project (No Seaborn Version)"
   ]
  },
  {
   "cell_type": "code",
   "execution_count": null,
   "id": "d171edc8",
   "metadata": {},
   "outputs": [],
   "source": [
    "import pandas as pd\n",
    "import matplotlib.pyplot as plt\n",
    "from sklearn.model_selection import train_test_split\n",
    "from sklearn.linear_model import LinearRegression\n",
    "from sklearn.metrics import mean_squared_error\n",
    "from sklearn.preprocessing import StandardScaler\n",
    "from sklearn.decomposition import PCA\n",
    "\n",
    "# Load dataset\n",
    "df = pd.read_csv('College_Admissions.csv')\n",
    "df.head()"
   ]
  },
  {
   "cell_type": "code",
   "execution_count": null,
   "id": "bf752633",
   "metadata": {},
   "outputs": [],
   "source": [
    "\n",
    "# Histograms and scatter plots using matplotlib\n",
    "fig, axes = plt.subplots(nrows=2, ncols=3, figsize=(15, 10))\n",
    "\n",
    "axes[0, 0].hist(df['GRE Score'], bins=20, color='skyblue')\n",
    "axes[0, 0].set_title('GRE Score Distribution')\n",
    "\n",
    "axes[0, 1].hist(df['CGPA'], bins=20, color='lightgreen')\n",
    "axes[0, 1].set_title('CGPA Distribution')\n",
    "\n",
    "axes[0, 2].hist(df['Research'], bins=2, color='salmon')\n",
    "axes[0, 2].set_title('Research Experience Distribution')\n",
    "\n",
    "axes[1, 0].scatter(df['GRE Score'], df['Chance of Admit '], alpha=0.5)\n",
    "axes[1, 0].set_title('GRE vs Chance of Admit')\n",
    "\n",
    "axes[1, 1].scatter(df['CGPA'], df['Chance of Admit '], alpha=0.5)\n",
    "axes[1, 1].set_title('CGPA vs Chance of Admit')\n",
    "\n",
    "axes[1, 2].scatter(df['Research'], df['Chance of Admit '], alpha=0.5)\n",
    "axes[1, 2].set_title('Research vs Chance of Admit')\n",
    "\n",
    "plt.tight_layout()\n",
    "plt.show()\n"
   ]
  },
  {
   "cell_type": "code",
   "execution_count": null,
   "id": "09859755",
   "metadata": {},
   "outputs": [],
   "source": [
    "X = df[['GRE Score', 'CGPA', 'Research']]\n",
    "y = df['Chance of Admit ']\n",
    "X_train, X_test, y_train, y_test = train_test_split(X, y, test_size=0.2, random_state=42)\n",
    "\n",
    "model = LinearRegression()\n",
    "model.fit(X_train, y_train)\n",
    "\n",
    "train_pred = model.predict(X_train)\n",
    "test_pred = model.predict(X_test)\n",
    "\n",
    "mse_train = mean_squared_error(y_train, train_pred)\n",
    "mse_test = mean_squared_error(y_test, test_pred)\n",
    "mse_train, mse_test"
   ]
  },
  {
   "cell_type": "code",
   "execution_count": null,
   "id": "cfc52aa8",
   "metadata": {},
   "outputs": [],
   "source": [
    "features_full = df.drop(columns=['Serial No.', 'Chance of Admit '])\n",
    "target = df['Chance of Admit ']\n",
    "scaler = StandardScaler()\n",
    "X_scaled = scaler.fit_transform(features_full)\n",
    "\n",
    "pca = PCA(n_components=2)\n",
    "X_pca = pca.fit_transform(X_scaled)\n",
    "X_train_pca, X_test_pca, y_train_pca, y_test_pca = train_test_split(X_pca, target, test_size=0.2, random_state=42)\n",
    "\n",
    "pca_model = LinearRegression()\n",
    "pca_model.fit(X_train_pca, y_train_pca)\n",
    "y_pred_pca = pca_model.predict(X_test_pca)\n",
    "\n",
    "mse_train_pca = mean_squared_error(y_train_pca, pca_model.predict(X_train_pca))\n",
    "mse_test_pca = mean_squared_error(y_test_pca, y_pred_pca)\n",
    "mse_train_pca, mse_test_pca"
   ]
  },
  {
   "cell_type": "code",
   "execution_count": null,
   "id": "745534c6",
   "metadata": {},
   "outputs": [],
   "source": [
    "plt.figure(figsize=(10,6))\n",
    "plt.scatter(X_test_pca[:, 0], X_test_pca[:, 1], c='blue', label='Data Points')\n",
    "plt.tricontour(X_test_pca[:, 0], X_test_pca[:, 1], y_pred_pca, levels=10, colors='black')\n",
    "plt.title('PCA Components with Regression Boundary')\n",
    "plt.xlabel('PC1')\n",
    "plt.ylabel('PC2')\n",
    "plt.grid(True)\n",
    "plt.legend()\n",
    "plt.show()"
   ]
  }
 ],
 "metadata": {
  "language_info": {
   "name": "python"
  }
 },
 "nbformat": 4,
 "nbformat_minor": 5
}
